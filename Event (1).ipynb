{
 "cells": [
  {
   "cell_type": "code",
   "execution_count": 1,
   "id": "fe91afca-df03-4c52-850b-c549d106eb32",
   "metadata": {},
   "outputs": [],
   "source": [
    "import pandas as pd"
   ]
  },
  {
   "cell_type": "code",
   "execution_count": 2,
   "id": "3580b2ab-5cfb-4b3b-a272-40af054b6330",
   "metadata": {},
   "outputs": [
    {
     "name": "stderr",
     "output_type": "stream",
     "text": [
      "D:\\temp\\ipykernel_7064\\1884334596.py:1: DtypeWarning: Columns (8,10,28,29) have mixed types. Specify dtype option on import or set low_memory=False.\n",
      "  df = pd.read_csv(\"AccidentsBig.csv\")\n"
     ]
    }
   ],
   "source": [
    "df = pd.read_csv(\"AccidentsBig.csv\")"
   ]
  },
  {
   "cell_type": "code",
   "execution_count": 3,
   "id": "036e03c0-a3e1-4782-97e1-143f2a485223",
   "metadata": {},
   "outputs": [
    {
     "name": "stdout",
     "output_type": "stream",
     "text": [
      "<class 'pandas.core.frame.DataFrame'>\n",
      "RangeIndex: 1048575 entries, 0 to 1048574\n",
      "Data columns (total 30 columns):\n",
      " #   Column                                       Non-Null Count  Dtype  \n",
      "---  ------                                       --------------  -----  \n",
      " 0   Accident_Index                               59998 non-null  float64\n",
      " 1   longitude                                    59998 non-null  float64\n",
      " 2   latitude                                     59998 non-null  float64\n",
      " 3   Police_Force                                 59998 non-null  float64\n",
      " 4   Accident_Severity                            59998 non-null  float64\n",
      " 5   Number_of_Vehicles                           59998 non-null  float64\n",
      " 6   Number_of_Casualties                         59998 non-null  float64\n",
      " 7   Day_of_Week                                  59998 non-null  float64\n",
      " 8   Time                                         59997 non-null  object \n",
      " 9   Local_Authority_(District)                   59998 non-null  float64\n",
      " 10  Local_Authority_(Highway)                    59998 non-null  object \n",
      " 11  1st_Road_Class                               59998 non-null  float64\n",
      " 12  1st_Road_Number                              59998 non-null  float64\n",
      " 13  Road_Type                                    59998 non-null  float64\n",
      " 14  Speed_limit                                  59998 non-null  float64\n",
      " 15  Junction_Detail                              59998 non-null  float64\n",
      " 16  Junction_Control                             59998 non-null  float64\n",
      " 17  2nd_Road_Class                               59998 non-null  float64\n",
      " 18  2nd_Road_Number                              59998 non-null  float64\n",
      " 19  Pedestrian_Crossing-Human_Control            59998 non-null  float64\n",
      " 20  Pedestrian_Crossing-Physical_Facilities      59998 non-null  float64\n",
      " 21  Light_Conditions                             59998 non-null  float64\n",
      " 22  Weather_Conditions                           59998 non-null  float64\n",
      " 23  Road_Surface_Conditions                      59998 non-null  float64\n",
      " 24  Special_Conditions_at_Site                   59998 non-null  float64\n",
      " 25  Carriageway_Hazards                          59998 non-null  float64\n",
      " 26  Urban_or_Rural_Area                          59998 non-null  float64\n",
      " 27  Did_Police_Officer_Attend_Scene_of_Accident  59998 non-null  float64\n",
      " 28  LSOA_of_Accident_Location                    59901 non-null  object \n",
      " 29  Date                                         59998 non-null  object \n",
      "dtypes: float64(26), object(4)\n",
      "memory usage: 240.0+ MB\n"
     ]
    }
   ],
   "source": [
    "df.info()"
   ]
  },
  {
   "cell_type": "code",
   "execution_count": 4,
   "id": "b5ddf218-32b0-41df-95c2-3aabcb6cb42d",
   "metadata": {},
   "outputs": [
    {
     "data": {
      "text/plain": [
       "Index(['Accident_Index', 'longitude', 'latitude', 'Police_Force',\n",
       "       'Accident_Severity', 'Number_of_Vehicles', 'Number_of_Casualties',\n",
       "       'Day_of_Week', 'Time', 'Local_Authority_(District)',\n",
       "       'Local_Authority_(Highway)', '1st_Road_Class', '1st_Road_Number',\n",
       "       'Road_Type', 'Speed_limit', 'Junction_Detail', 'Junction_Control',\n",
       "       '2nd_Road_Class', '2nd_Road_Number',\n",
       "       'Pedestrian_Crossing-Human_Control',\n",
       "       'Pedestrian_Crossing-Physical_Facilities', 'Light_Conditions',\n",
       "       'Weather_Conditions', 'Road_Surface_Conditions',\n",
       "       'Special_Conditions_at_Site', 'Carriageway_Hazards',\n",
       "       'Urban_or_Rural_Area', 'Did_Police_Officer_Attend_Scene_of_Accident',\n",
       "       'LSOA_of_Accident_Location', 'Date'],\n",
       "      dtype='object')"
      ]
     },
     "execution_count": 4,
     "metadata": {},
     "output_type": "execute_result"
    }
   ],
   "source": [
    "df.columns"
   ]
  },
  {
   "cell_type": "code",
   "execution_count": 5,
   "id": "e68b46dc-6246-453d-8b61-1a53d540a244",
   "metadata": {},
   "outputs": [
    {
     "data": {
      "text/plain": [
       "Accident_Index                                 59998\n",
       "longitude                                      59998\n",
       "latitude                                       59998\n",
       "Police_Force                                   59998\n",
       "Accident_Severity                              59998\n",
       "Number_of_Vehicles                             59998\n",
       "Number_of_Casualties                           59998\n",
       "Day_of_Week                                    59998\n",
       "Time                                           59997\n",
       "Local_Authority_(District)                     59998\n",
       "Local_Authority_(Highway)                      59998\n",
       "1st_Road_Class                                 59998\n",
       "1st_Road_Number                                59998\n",
       "Road_Type                                      59998\n",
       "Speed_limit                                    59998\n",
       "Junction_Detail                                59998\n",
       "Junction_Control                               59998\n",
       "2nd_Road_Class                                 59998\n",
       "2nd_Road_Number                                59998\n",
       "Pedestrian_Crossing-Human_Control              59998\n",
       "Pedestrian_Crossing-Physical_Facilities        59998\n",
       "Light_Conditions                               59998\n",
       "Weather_Conditions                             59998\n",
       "Road_Surface_Conditions                        59998\n",
       "Special_Conditions_at_Site                     59998\n",
       "Carriageway_Hazards                            59998\n",
       "Urban_or_Rural_Area                            59998\n",
       "Did_Police_Officer_Attend_Scene_of_Accident    59998\n",
       "LSOA_of_Accident_Location                      59901\n",
       "Date                                           59998\n",
       "dtype: int64"
      ]
     },
     "execution_count": 5,
     "metadata": {},
     "output_type": "execute_result"
    }
   ],
   "source": [
    "df.count()"
   ]
  },
  {
   "cell_type": "code",
   "execution_count": 6,
   "id": "6a8979b0-dde0-4e78-987e-6e8db364c23a",
   "metadata": {},
   "outputs": [],
   "source": [
    "# To show the all columns\n",
    "pd.set_option(\"display.max_columns\", 2000)\n"
   ]
  },
  {
   "cell_type": "code",
   "execution_count": 7,
   "id": "28ca318d-ad33-42f1-9127-1ff38ba9145c",
   "metadata": {},
   "outputs": [],
   "source": [
    "pd.set_option(\"display.max_rows\", 85)"
   ]
  },
  {
   "cell_type": "code",
   "execution_count": 8,
   "id": "d5258d2d-b4cd-4da3-9be0-d3ecbf06c70c",
   "metadata": {},
   "outputs": [
    {
     "data": {
      "text/plain": [
       "Index(['Accident_Index', 'longitude', 'latitude', 'Police_Force',\n",
       "       'Accident_Severity', 'Number_of_Vehicles', 'Number_of_Casualties',\n",
       "       'Day_of_Week', 'Time', 'Local_Authority_(District)',\n",
       "       'Local_Authority_(Highway)', '1st_Road_Class', '1st_Road_Number',\n",
       "       'Road_Type', 'Speed_limit', 'Junction_Detail', 'Junction_Control',\n",
       "       '2nd_Road_Class', '2nd_Road_Number',\n",
       "       'Pedestrian_Crossing-Human_Control',\n",
       "       'Pedestrian_Crossing-Physical_Facilities', 'Light_Conditions',\n",
       "       'Weather_Conditions', 'Road_Surface_Conditions',\n",
       "       'Special_Conditions_at_Site', 'Carriageway_Hazards',\n",
       "       'Urban_or_Rural_Area', 'Did_Police_Officer_Attend_Scene_of_Accident',\n",
       "       'LSOA_of_Accident_Location', 'Date'],\n",
       "      dtype='object')"
      ]
     },
     "execution_count": 8,
     "metadata": {},
     "output_type": "execute_result"
    }
   ],
   "source": [
    "df.columns"
   ]
  },
  {
   "cell_type": "code",
   "execution_count": null,
   "id": "019820eb-d039-439a-932b-ba22411fce10",
   "metadata": {},
   "outputs": [],
   "source": [
    "df"
   ]
  },
  {
   "cell_type": "code",
   "execution_count": null,
   "id": "e976c92e-4aea-476e-bea8-812f0afe91f3",
   "metadata": {},
   "outputs": [],
   "source": [
    "for column in df.select_dtypes(include=['number']).columns:\n",
    "    df[column].fillna(df[column].mean(), inplace=True)"
   ]
  },
  {
   "cell_type": "code",
   "execution_count": null,
   "id": "d8a80c28-a3bb-4519-80e9-c416c222ea92",
   "metadata": {},
   "outputs": [],
   "source": [
    "df"
   ]
  },
  {
   "cell_type": "code",
   "execution_count": null,
   "id": "7e9eead4-8228-4e2c-9095-d125d05bdd66",
   "metadata": {},
   "outputs": [],
   "source": [
    "df.to_csv(\"New_data.csv\")"
   ]
  },
  {
   "cell_type": "code",
   "execution_count": 10,
   "id": "00af227d-fbc2-4155-a923-4a119b64b4c5",
   "metadata": {},
   "outputs": [],
   "source": [
    "n = df.head()"
   ]
  },
  {
   "cell_type": "code",
   "execution_count": 11,
   "id": "c974447e-df5d-42aa-ab6b-940de05e909e",
   "metadata": {},
   "outputs": [],
   "source": [
    "n.to_csv(\"ii.csv\")"
   ]
  },
  {
   "cell_type": "code",
   "execution_count": 16,
   "id": "cc1496de-0c9f-4b93-828a-9ec0a3096a63",
   "metadata": {},
   "outputs": [],
   "source": [
    "import pandas as pd\n",
    "\n",
    "def clean_data(file_path, output_path=\"cleaned_data.csv\"):\n",
    "    try:\n",
    "        df = pd.read_csv(file_path)\n",
    "        print(\"Data successfully loaded.\")\n",
    "\n",
    "        df = df.dropna(how='all')\n",
    "        print(\"Dropped rows with all NaN values.\")\n",
    "\n",
    "        df = df.fillna(method='ffill').fillna(method='bfill')\n",
    "        print(\"Filled missing values.\")\n",
    "        df = df.drop_duplicates()\n",
    "        print(\"Removed duplicate rows.\")\n",
    "        df.columns = [col.strip().lower().replace(\" \", \"_\") for col in df.columns]\n",
    "        print(\"Standardized column names.\")\n",
    "\n",
    "        df.to_csv(output_path, index=False)\n",
    "        print(f\"Cleaned data saved to {output_path}.\")\n",
    "\n",
    "    except Exception as e:\n",
    "        print(f\"An error occurred: {e}\")\n",
    "\n"
   ]
  },
  {
   "cell_type": "code",
   "execution_count": 17,
   "id": "78771015-c29e-42d7-8174-5a5b060a5b9f",
   "metadata": {},
   "outputs": [
    {
     "name": "stderr",
     "output_type": "stream",
     "text": [
      "D:\\temp\\ipykernel_7064\\2390075945.py:7: DtypeWarning: Columns (8,10,28,29) have mixed types. Specify dtype option on import or set low_memory=False.\n",
      "  df = pd.read_csv(file_path)\n"
     ]
    },
    {
     "name": "stdout",
     "output_type": "stream",
     "text": [
      "Data successfully loaded.\n",
      "Dropped rows with all NaN values.\n"
     ]
    },
    {
     "name": "stderr",
     "output_type": "stream",
     "text": [
      "D:\\temp\\ipykernel_7064\\2390075945.py:15: FutureWarning: DataFrame.fillna with 'method' is deprecated and will raise in a future version. Use obj.ffill() or obj.bfill() instead.\n",
      "  df = df.fillna(method='ffill').fillna(method='bfill')\n"
     ]
    },
    {
     "name": "stdout",
     "output_type": "stream",
     "text": [
      "Filled missing values.\n",
      "Removed duplicate rows.\n",
      "Standardized column names.\n",
      "Cleaned data saved to cleaned_data.csv.\n"
     ]
    }
   ],
   "source": [
    "input_file_path = \"AccidentsBig.csv\"  \n",
    "output_file_path = \"cleaned_data.csv\"    \n",
    "clean_data(input_file_path, output_file_path)\n"
   ]
  },
  {
   "cell_type": "code",
   "execution_count": null,
   "id": "35437058-ad73-4192-af7f-5da9a77bf957",
   "metadata": {},
   "outputs": [],
   "source": []
  },
  {
   "cell_type": "code",
   "execution_count": null,
   "id": "6d3af58d-9d5e-4851-872d-792df32c719c",
   "metadata": {},
   "outputs": [],
   "source": []
  }
 ],
 "metadata": {
  "kernelspec": {
   "display_name": "Python 3 (ipykernel)",
   "language": "python",
   "name": "python3"
  },
  "language_info": {
   "codemirror_mode": {
    "name": "ipython",
    "version": 3
   },
   "file_extension": ".py",
   "mimetype": "text/x-python",
   "name": "python",
   "nbconvert_exporter": "python",
   "pygments_lexer": "ipython3",
   "version": "3.12.7"
  }
 },
 "nbformat": 4,
 "nbformat_minor": 5
}
